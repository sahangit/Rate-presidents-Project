{
 "cells": [
  {
   "cell_type": "markdown",
   "id": "71627470",
   "metadata": {},
   "source": [
    "# Applying Machine learning"
   ]
  },
  {
   "cell_type": "markdown",
   "id": "76964f57",
   "metadata": {},
   "source": [
    "## Importing necessary modules and data"
   ]
  },
  {
   "cell_type": "code",
   "execution_count": 1,
   "id": "78a2589f",
   "metadata": {},
   "outputs": [],
   "source": [
    "import pandas as pd\n",
    "import numpy as np\n",
    "from sklearn.linear_model import LinearRegression"
   ]
  },
  {
   "cell_type": "code",
   "execution_count": 2,
   "id": "73aa7c5f",
   "metadata": {},
   "outputs": [
    {
     "data": {
      "text/html": [
       "<div>\n",
       "<style scoped>\n",
       "    .dataframe tbody tr th:only-of-type {\n",
       "        vertical-align: middle;\n",
       "    }\n",
       "\n",
       "    .dataframe tbody tr th {\n",
       "        vertical-align: top;\n",
       "    }\n",
       "\n",
       "    .dataframe thead th {\n",
       "        text-align: right;\n",
       "    }\n",
       "</style>\n",
       "<table border=\"1\" class=\"dataframe\">\n",
       "  <thead>\n",
       "    <tr style=\"text-align: right;\">\n",
       "      <th></th>\n",
       "      <th>Country_China</th>\n",
       "      <th>Country_India</th>\n",
       "      <th>Country_Singapore</th>\n",
       "      <th>Country_Sri Lanka</th>\n",
       "      <th>Country_United Kingdom</th>\n",
       "      <th>Country_United States</th>\n",
       "      <th>Presidential term</th>\n",
       "      <th>Year start</th>\n",
       "      <th>Educational Background</th>\n",
       "      <th>Professional Background</th>\n",
       "      <th>Left Hand / Right Handed</th>\n",
       "      <th>Experience</th>\n",
       "      <th>Average</th>\n",
       "    </tr>\n",
       "  </thead>\n",
       "  <tbody>\n",
       "    <tr>\n",
       "      <th>0</th>\n",
       "      <td>0</td>\n",
       "      <td>0</td>\n",
       "      <td>0</td>\n",
       "      <td>1</td>\n",
       "      <td>0</td>\n",
       "      <td>0</td>\n",
       "      <td>1</td>\n",
       "      <td>2015</td>\n",
       "      <td>0.0</td>\n",
       "      <td>0</td>\n",
       "      <td>1</td>\n",
       "      <td>44</td>\n",
       "      <td>3.732474</td>\n",
       "    </tr>\n",
       "    <tr>\n",
       "      <th>1</th>\n",
       "      <td>0</td>\n",
       "      <td>0</td>\n",
       "      <td>0</td>\n",
       "      <td>1</td>\n",
       "      <td>0</td>\n",
       "      <td>0</td>\n",
       "      <td>2</td>\n",
       "      <td>2010</td>\n",
       "      <td>5.0</td>\n",
       "      <td>0</td>\n",
       "      <td>1</td>\n",
       "      <td>43</td>\n",
       "      <td>6.784341</td>\n",
       "    </tr>\n",
       "    <tr>\n",
       "      <th>2</th>\n",
       "      <td>0</td>\n",
       "      <td>0</td>\n",
       "      <td>0</td>\n",
       "      <td>1</td>\n",
       "      <td>0</td>\n",
       "      <td>0</td>\n",
       "      <td>1</td>\n",
       "      <td>2006</td>\n",
       "      <td>5.0</td>\n",
       "      <td>0</td>\n",
       "      <td>1</td>\n",
       "      <td>39</td>\n",
       "      <td>5.988530</td>\n",
       "    </tr>\n",
       "    <tr>\n",
       "      <th>3</th>\n",
       "      <td>0</td>\n",
       "      <td>0</td>\n",
       "      <td>0</td>\n",
       "      <td>1</td>\n",
       "      <td>0</td>\n",
       "      <td>0</td>\n",
       "      <td>2</td>\n",
       "      <td>2000</td>\n",
       "      <td>7.5</td>\n",
       "      <td>0</td>\n",
       "      <td>1</td>\n",
       "      <td>26</td>\n",
       "      <td>4.341063</td>\n",
       "    </tr>\n",
       "    <tr>\n",
       "      <th>4</th>\n",
       "      <td>0</td>\n",
       "      <td>0</td>\n",
       "      <td>0</td>\n",
       "      <td>1</td>\n",
       "      <td>0</td>\n",
       "      <td>0</td>\n",
       "      <td>1</td>\n",
       "      <td>1995</td>\n",
       "      <td>7.5</td>\n",
       "      <td>0</td>\n",
       "      <td>1</td>\n",
       "      <td>20</td>\n",
       "      <td>4.940883</td>\n",
       "    </tr>\n",
       "  </tbody>\n",
       "</table>\n",
       "</div>"
      ],
      "text/plain": [
       "   Country_China  Country_India  Country_Singapore  Country_Sri Lanka  \\\n",
       "0              0              0                  0                  1   \n",
       "1              0              0                  0                  1   \n",
       "2              0              0                  0                  1   \n",
       "3              0              0                  0                  1   \n",
       "4              0              0                  0                  1   \n",
       "\n",
       "   Country_United Kingdom  Country_United States  Presidential term  \\\n",
       "0                       0                      0                  1   \n",
       "1                       0                      0                  2   \n",
       "2                       0                      0                  1   \n",
       "3                       0                      0                  2   \n",
       "4                       0                      0                  1   \n",
       "\n",
       "   Year start  Educational Background  Professional Background  \\\n",
       "0        2015                     0.0                        0   \n",
       "1        2010                     5.0                        0   \n",
       "2        2006                     5.0                        0   \n",
       "3        2000                     7.5                        0   \n",
       "4        1995                     7.5                        0   \n",
       "\n",
       "   Left Hand / Right Handed  Experience   Average  \n",
       "0                         1          44  3.732474  \n",
       "1                         1          43  6.784341  \n",
       "2                         1          39  5.988530  \n",
       "3                         1          26  4.341063  \n",
       "4                         1          20  4.940883  "
      ]
     },
     "execution_count": 2,
     "metadata": {},
     "output_type": "execute_result"
    }
   ],
   "source": [
    "df_model = pd.read_csv('President and Gdp data Encoded.csv')\n",
    "df_model.drop(columns = 'index' , inplace = True)\n",
    "df_model.head()"
   ]
  },
  {
   "cell_type": "markdown",
   "id": "b0d5b6d3",
   "metadata": {},
   "source": [
    "## Applying linear regression models\n"
   ]
  },
  {
   "cell_type": "code",
   "execution_count": 3,
   "id": "651d7ab4",
   "metadata": {},
   "outputs": [],
   "source": [
    "# break independenct and dependent variables\n",
    "\n",
    "X = df_model.values[:, 0:-1]\n",
    "y = df_model.values[:, -1] "
   ]
  },
  {
   "cell_type": "markdown",
   "id": "1e78d7c1",
   "metadata": {},
   "source": [
    "### Applying linear least square model"
   ]
  },
  {
   "cell_type": "code",
   "execution_count": 8,
   "id": "8277c9a9",
   "metadata": {},
   "outputs": [
    {
     "name": "stdout",
     "output_type": "stream",
     "text": [
      "coef1=  [ 3.90297572  2.10619931  0.88029825 -0.29306251 -3.50469048 -3.0917203\n",
      " -0.23801897 -0.0778055  -0.31589889 -0.18784962  0.29573867 -0.04116963]\n",
      "intercept1=  164.49932227772547\n"
     ]
    }
   ],
   "source": [
    "# without normalization\n",
    "\n",
    "model_ols =  LinearRegression(normalize=False)\n",
    "model_ols.fit(X,y) \n",
    "\n",
    "coef1 = model_ols.coef_\n",
    "intercept1 = model_ols.intercept_\n",
    "print('coef1= ', coef1)\n",
    "print('intercept1= ', intercept1)"
   ]
  },
  {
   "cell_type": "code",
   "execution_count": 9,
   "id": "c1eb80e2",
   "metadata": {},
   "outputs": [
    {
     "name": "stdout",
     "output_type": "stream",
     "text": [
      "coef2=  [ 4.01253676  2.21576034  0.98985929 -0.18350148 -3.39512944 -2.98215927\n",
      " -0.23801897 -0.0778055  -0.31589889 -0.18784962  0.29573867 -0.04116963]\n",
      "intercept2=  164.38976124638313\n"
     ]
    }
   ],
   "source": [
    "# with normalization\n",
    "\n",
    "model_ols =  LinearRegression(normalize=True)\n",
    "model_ols.fit(X,y) \n",
    "\n",
    "coef2 = model_ols.coef_\n",
    "intercept2 = model_ols.intercept_\n",
    "print('coef2= ', coef2)\n",
    "print('intercept2= ', intercept2)"
   ]
  },
  {
   "cell_type": "code",
   "execution_count": 39,
   "id": "fdaf3084",
   "metadata": {},
   "outputs": [
    {
     "data": {
      "text/plain": [
       "5.351444201028073"
      ]
     },
     "execution_count": 39,
     "metadata": {},
     "output_type": "execute_result"
    }
   ],
   "source": [
    "# Normalization did not provide different result. Year should have been recategorized.\n",
    "# prediction Sajith premadasa for 2024 election\n",
    "\n",
    "Sajith = [0,0,0,1,0,0,1,2024,0.5,0,1,31]\n",
    "Sajith_prediction = sum(Sajith*coef1)+intercept1\n",
    "\n",
    "Sajith = [0,0,0,1,0,0,1,2024,0.5,0,1,31]\n",
    "Sajith_prediction = sum(Sajith*coef1)+intercept1\n",
    "\n",
    "Sajith_prediction"
   ]
  },
  {
   "cell_type": "code",
   "execution_count": 40,
   "id": "15a94c6e",
   "metadata": {},
   "outputs": [
    {
     "data": {
      "text/plain": [
       "array([5.3514442])"
      ]
     },
     "execution_count": 40,
     "metadata": {},
     "output_type": "execute_result"
    }
   ],
   "source": [
    "\n",
    "Sajith = np.array(Sajith)\n",
    "\n",
    "Sajith = np.reshape(Sajith, (1,12))\n",
    "\n",
    "model_ols.predict(Sajith)"
   ]
  },
  {
   "cell_type": "code",
   "execution_count": null,
   "id": "a6f54cea",
   "metadata": {},
   "outputs": [],
   "source": []
  }
 ],
 "metadata": {
  "kernelspec": {
   "display_name": "Python 3",
   "language": "python",
   "name": "python3"
  },
  "language_info": {
   "codemirror_mode": {
    "name": "ipython",
    "version": 3
   },
   "file_extension": ".py",
   "mimetype": "text/x-python",
   "name": "python",
   "nbconvert_exporter": "python",
   "pygments_lexer": "ipython3",
   "version": "3.8.5"
  },
  "toc": {
   "base_numbering": 1,
   "nav_menu": {},
   "number_sections": true,
   "sideBar": true,
   "skip_h1_title": false,
   "title_cell": "Table of Contents",
   "title_sidebar": "Contents",
   "toc_cell": false,
   "toc_position": {},
   "toc_section_display": true,
   "toc_window_display": false
  },
  "varInspector": {
   "cols": {
    "lenName": 16,
    "lenType": 16,
    "lenVar": 40
   },
   "kernels_config": {
    "python": {
     "delete_cmd_postfix": "",
     "delete_cmd_prefix": "del ",
     "library": "var_list.py",
     "varRefreshCmd": "print(var_dic_list())"
    },
    "r": {
     "delete_cmd_postfix": ") ",
     "delete_cmd_prefix": "rm(",
     "library": "var_list.r",
     "varRefreshCmd": "cat(var_dic_list()) "
    }
   },
   "types_to_exclude": [
    "module",
    "function",
    "builtin_function_or_method",
    "instance",
    "_Feature"
   ],
   "window_display": false
  }
 },
 "nbformat": 4,
 "nbformat_minor": 5
}
